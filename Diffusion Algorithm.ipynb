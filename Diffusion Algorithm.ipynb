{
 "cells": [
  {
   "cell_type": "markdown",
   "source": [
    "DIFFUSION USING A RANDOM WALK ALGORITHM\r\n",
    "\r\n",
    "Let us consider a simple 1D random walk process: at each time step a walker jumps right or left with\r\n",
    "equal probability.\r\n",
    "We are interested in finding the typical distance from the origin of a random walker after t left or right\r\n",
    "jumps? We are going to simulate many “walkers” to find this law, and we are going to do so using array\r\n",
    "computing tricks: we are going to create a 2D array with the “stories” (each walker has a story) in one\r\n",
    "direction, and the time in the other\r\n"
   ],
   "metadata": {}
  },
  {
   "cell_type": "code",
   "execution_count": 10,
   "source": [
    "import numpy as np\r\n",
    "import matplotlib.pyplot as plt\r\n"
   ],
   "outputs": [],
   "metadata": {}
  },
  {
   "cell_type": "code",
   "execution_count": 11,
   "source": [
    "n_stories = 1000\r\n",
    "t_max = 200"
   ],
   "outputs": [],
   "metadata": {}
  },
  {
   "cell_type": "markdown",
   "source": [
    "We randomly choose all the steps 1 or -1 of the walk"
   ],
   "metadata": {}
  },
  {
   "cell_type": "code",
   "execution_count": 12,
   "source": [
    "t = np.arange(t_max)\r\n",
    "print(t[:10])\r\n",
    "steps = 2 * np.random.random_integers(0,1,(n_stories,t_max))-1\r\n",
    "np.unique(steps)"
   ],
   "outputs": [
    {
     "output_type": "stream",
     "name": "stdout",
     "text": [
      "[0 1 2 3 4 5 6 7 8 9]\n"
     ]
    },
    {
     "output_type": "stream",
     "name": "stderr",
     "text": [
      "C:\\Users\\Adebayo\\AppData\\Local\\Temp/ipykernel_7844/2843545949.py:3: DeprecationWarning: This function is deprecated. Please call randint(0, 1 + 1) instead\n",
      "  steps = 2 * np.random.random_integers(0,1,(n_stories,t_max))-1\n"
     ]
    },
    {
     "output_type": "execute_result",
     "data": {
      "text/plain": [
       "array([-1,  1])"
      ]
     },
     "metadata": {},
     "execution_count": 12
    }
   ],
   "metadata": {}
  },
  {
   "cell_type": "markdown",
   "source": [
    "We build the walks by summing steps along the time"
   ],
   "metadata": {}
  },
  {
   "cell_type": "code",
   "execution_count": 13,
   "source": [
    "positions = np.cumsum(steps, axis=1)\r\n",
    "sq_distance = positions**2\r\n",
    "mean_sq_distance = np.mean(sq_distance, axis=0)"
   ],
   "outputs": [],
   "metadata": {}
  },
  {
   "cell_type": "markdown",
   "source": [
    "Plot the result"
   ],
   "metadata": {}
  },
  {
   "cell_type": "code",
   "execution_count": 17,
   "source": [
    "fig = plt.figure(figsize=(4, 3))\r\n",
    "plt.plot(t, np.sqrt(mean_sq_distance), 'g.', t, np.sqrt(t), 'y-')\r\n",
    "plt.xlabel(r\"$t$\")\r\n",
    "plt.ylabel(r\"$\\sqrt{\\langle (\\delta x)^2 \\rangle}$\")\r\n",
    "fig.savefig('Random.png')\r\n"
   ],
   "outputs": [
    {
     "output_type": "display_data",
     "data": {
      "image/png": "[encoded data removed]",
      "text/plain": [
       "<Figure size 288x216 with 1 Axes>"
      ]
     },
     "metadata": {
      "needs_background": "light"
     }
    }
   ],
   "metadata": {}
  },
  {
   "cell_type": "code",
   "execution_count": null,
   "source": [],
   "outputs": [],
   "metadata": {}
  }
 ],
 "metadata": {
  "orig_nbformat": 4,
  "language_info": {
   "name": "python",
   "version": "3.9.6",
   "mimetype": "text/x-python",
   "codemirror_mode": {
    "name": "ipython",
    "version": 3
   },
   "pygments_lexer": "ipython3",
   "nbconvert_exporter": "python",
   "file_extension": ".py"
  },
  "kernelspec": {
   "name": "python3",
   "display_name": "Python 3.9.6 64-bit"
  },
  "interpreter": {
   "hash": "adf13407241d99058d9a17b30c3777ecd5e2e33e10132967e127b35f6db42353"
  }
 },
 "nbformat": 4,
 "nbformat_minor": 2
}